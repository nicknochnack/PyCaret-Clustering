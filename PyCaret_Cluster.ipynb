{
  "nbformat": 4,
  "nbformat_minor": 0,
  "metadata": {
    "colab": {
      "name": "PyCaret Cluster.ipynb",
      "provenance": [],
      "collapsed_sections": []
    },
    "kernelspec": {
      "name": "python3",
      "display_name": "Python 3"
    },
    "language_info": {
      "name": "python"
    }
  },
  "cells": [
    {
      "cell_type": "code",
      "source": [
        "!pip install markupsafe==2.0.1 Jinja2 matplotlib==3.1.3"
      ],
      "metadata": {
        "id": "YvmfxkjEUz6K"
      },
      "execution_count": null,
      "outputs": []
    },
    {
      "cell_type": "code",
      "execution_count": null,
      "metadata": {
        "id": "VddAY_5kTb17"
      },
      "outputs": [],
      "source": [
        "!pip install pycaret==2.3.9 --upgrade"
      ]
    },
    {
      "cell_type": "code",
      "source": [
        "import pandas as pd\n",
        "df = pd.read_csv('Mall_Customers.csv')\n",
        "df.head(1)"
      ],
      "metadata": {
        "id": "SGlcoYiMFYKW"
      },
      "execution_count": null,
      "outputs": []
    },
    {
      "cell_type": "code",
      "source": [
        "from pycaret.clustering import setup, create_model, evaluate_model, predict_model, save_model, load_model"
      ],
      "metadata": {
        "id": "OlrjYNP-F8a8"
      },
      "execution_count": null,
      "outputs": []
    },
    {
      "cell_type": "code",
      "source": [
        "s = setup(df)"
      ],
      "metadata": {
        "id": "S2yTvdiwGf0R"
      },
      "execution_count": null,
      "outputs": []
    },
    {
      "cell_type": "code",
      "source": [
        "model = create_model('kmeans')"
      ],
      "metadata": {
        "id": "jSiJQhMnGh7z"
      },
      "execution_count": null,
      "outputs": []
    },
    {
      "cell_type": "code",
      "source": [
        "evaluate_model(model)"
      ],
      "metadata": {
        "id": "SbbrWfC8Gm-L"
      },
      "execution_count": null,
      "outputs": []
    },
    {
      "cell_type": "code",
      "source": [
        "predict_model(model, data=df)"
      ],
      "metadata": {
        "id": "sVR7kCo-G3MC"
      },
      "execution_count": null,
      "outputs": []
    },
    {
      "cell_type": "code",
      "source": [
        "save_model(best_model, 'kmeans')"
      ],
      "metadata": {
        "id": "r0QR3bURHCAh"
      },
      "execution_count": null,
      "outputs": []
    },
    {
      "cell_type": "code",
      "source": [
        "model = load_model('kmeans')"
      ],
      "metadata": {
        "id": "UgEsTEr9HHwK"
      },
      "execution_count": null,
      "outputs": []
    }
  ]
}